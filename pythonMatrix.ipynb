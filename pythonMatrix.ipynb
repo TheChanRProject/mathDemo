{
 "cells": [
  {
   "cell_type": "markdown",
   "metadata": {},
   "source": [
    "$$\n",
    "  M=\n",
    "\\left[ {\\begin{array}{ccccc}\n",
    "    1 & 2 & 3 & 4 & 5\\\\\n",
    "   3 & 4 & 5 & 6 & 7\\\\\n",
    "  \\end{array} } \\right]\n",
    "$$"
   ]
  },
  {
   "cell_type": "code",
   "execution_count": 1,
   "metadata": {},
   "outputs": [],
   "source": [
    "import numpy as np"
   ]
  },
  {
   "cell_type": "markdown",
   "metadata": {},
   "source": [
    "Numpy is the matrix operation library of Python "
   ]
  },
  {
   "cell_type": "markdown",
   "metadata": {},
   "source": [
    "Let's first create a list of the numbers seen in the above matrix and then we'll transform it into a numpy array."
   ]
  },
  {
   "cell_type": "code",
   "execution_count": 5,
   "metadata": {},
   "outputs": [
    {
     "name": "stdout",
     "output_type": "stream",
     "text": [
      "[[1 2 3 4 5]\n",
      " [3 4 5 6 7]]\n"
     ]
    }
   ],
   "source": [
    "## np.array wrapping around the list of numbers turns the list into a numpy array \n",
    "\n",
    "## the reshape(5,2) method turns the array into a 2x5 matrix\n",
    "\n",
    "myMatrix = np.array([1,2,3,4,5,3,4,5,6,7]).reshape(2,5)\n",
    "print(myMatrix)"
   ]
  },
  {
   "cell_type": "markdown",
   "metadata": {},
   "source": [
    "What if we needed to get a single number from the matrix? We can index the matrix pretty easily.\n",
    "\n",
    "We write it like this:\n",
    "\n",
    "$$ M[row][column] $$ \n",
    "\n",
    "In computers, we always count from 0 instead of 1."
   ]
  },
  {
   "cell_type": "code",
   "execution_count": 9,
   "metadata": {},
   "outputs": [
    {
     "name": "stdout",
     "output_type": "stream",
     "text": [
      "2\n",
      "7\n"
     ]
    }
   ],
   "source": [
    "# get the number 2\n",
    "print(myMatrix[0][1])\n",
    "\n",
    "# get the number 7\n",
    "print(myMatrix[1][4])\n",
    "\n"
   ]
  },
  {
   "cell_type": "code",
   "execution_count": null,
   "metadata": {},
   "outputs": [],
   "source": []
  }
 ],
 "metadata": {
  "kernelspec": {
   "display_name": "Python 3",
   "language": "python",
   "name": "python3"
  },
  "language_info": {
   "codemirror_mode": {
    "name": "ipython",
    "version": 3
   },
   "file_extension": ".py",
   "mimetype": "text/x-python",
   "name": "python",
   "nbconvert_exporter": "python",
   "pygments_lexer": "ipython3",
   "version": "3.6.4"
  }
 },
 "nbformat": 4,
 "nbformat_minor": 2
}
