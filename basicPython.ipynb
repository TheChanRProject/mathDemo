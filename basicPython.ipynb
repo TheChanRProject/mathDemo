{
 "cells": [
  {
   "cell_type": "code",
   "execution_count": 1,
   "metadata": {},
   "outputs": [
    {
     "name": "stdout",
     "output_type": "stream",
     "text": [
      "Rishov thinks William is cool!\n"
     ]
    }
   ],
   "source": [
    "v1 = \"Rishov\"\n",
    "v2 = \"William\"\n",
    "\n",
    "print(v1 + \" thinks \" + v2 + \" is cool!\" )"
   ]
  },
  {
   "cell_type": "markdown",
   "metadata": {},
   "source": [
    "In this notebook, we will go over Python basics:\n",
    "\n",
    "- Variables\n",
    "- Data Types \n",
    "- Control Flow\n",
    "- Loops\n",
    "- Functions \n",
    "\n"
   ]
  },
  {
   "cell_type": "markdown",
   "metadata": {},
   "source": [
    "$$\\int_{a}^{b} x^2 dx = \\frac{x^3}{3}_{a}^{b} = \\frac{b^3}{3} - \\frac{a^3}{3} $$"
   ]
  },
  {
   "cell_type": "markdown",
   "metadata": {},
   "source": [
    "Variables in Python don't need their type specified, but we can specify them."
   ]
  },
  {
   "cell_type": "code",
   "execution_count": 5,
   "metadata": {},
   "outputs": [],
   "source": [
    "v3 = 5\n",
    "v3: int = 5 "
   ]
  },
  {
   "cell_type": "code",
   "execution_count": 6,
   "metadata": {},
   "outputs": [
    {
     "data": {
      "text/plain": [
       "5"
      ]
     },
     "execution_count": 6,
     "metadata": {},
     "output_type": "execute_result"
    }
   ],
   "source": [
    "v3"
   ]
  },
  {
   "cell_type": "markdown",
   "metadata": {},
   "source": [
    "We can have floats, integers, boolean values, strings, and other primitive types in Python. \n",
    "\n",
    "For this notebook, we'll just care about the ones listed."
   ]
  },
  {
   "cell_type": "code",
   "execution_count": 7,
   "metadata": {},
   "outputs": [],
   "source": [
    "float1 = 6.0\n",
    "int1 = 3\n",
    "bool1 = True \n",
    "bool2 = False\n",
    "str1 = \"Rishov is rocking the notebook\""
   ]
  },
  {
   "cell_type": "markdown",
   "metadata": {},
   "source": [
    "Control Flow in Python:\n",
    "\n",
    "- if\n",
    "\n",
    "- elif\n",
    "\n",
    "- else"
   ]
  },
  {
   "cell_type": "code",
   "execution_count": 10,
   "metadata": {},
   "outputs": [
    {
     "name": "stdout",
     "output_type": "stream",
     "text": [
      "Did something right\n"
     ]
    }
   ],
   "source": [
    "# Below, a is an example of a list in Python. Compared to other languages, a list is the equivalent \n",
    "# of an array\n",
    "\n",
    "a = [1,2,3,4,5]\n",
    "\n",
    "if a[1] == True:\n",
    "     print(\"Second is the best\")\n",
    "elif a[3] == 4:\n",
    "    print(\"Did something right\")\n",
    "else:\n",
    "    print(\"Testing out the else clause\")\n",
    "\n",
    "\n"
   ]
  },
  {
   "cell_type": "markdown",
   "metadata": {},
   "source": [
    "Python supports while and for loops."
   ]
  },
  {
   "cell_type": "code",
   "execution_count": 11,
   "metadata": {},
   "outputs": [
    {
     "name": "stdout",
     "output_type": "stream",
     "text": [
      "The count is: 0\n",
      "The count is: 1\n",
      "The count is: 2\n",
      "The count is: 3\n",
      "The count is: 4\n",
      "The count is: 5\n",
      "The count is: 6\n",
      "The count is: 7\n",
      "The count is: 8\n",
      "Good bye!\n"
     ]
    }
   ],
   "source": [
    "#while loop example\n",
    "\n",
    "count = 0\n",
    "while (count < 9):\n",
    "   print('The count is:', count)\n",
    "   count = count + 1\n",
    "\n",
    "print(\"Good bye!\")"
   ]
  },
  {
   "cell_type": "code",
   "execution_count": 13,
   "metadata": {},
   "outputs": [
    {
     "name": "stdout",
     "output_type": "stream",
     "text": [
      "1\n",
      "4\n",
      "9\n",
      "16\n",
      "25\n"
     ]
    }
   ],
   "source": [
    "#for loop example\n",
    "\n",
    "for i in a:\n",
    "    print(i**2)"
   ]
  },
  {
   "cell_type": "markdown",
   "metadata": {},
   "source": [
    "Functions in Python are super interesting. Let's write two example functions."
   ]
  },
  {
   "cell_type": "code",
   "execution_count": 14,
   "metadata": {},
   "outputs": [],
   "source": [
    "# doubling any input\n",
    "\n",
    "def twice(x):\n",
    "    return 2*x\n",
    "\n",
    "# taking the average of a list of numbers\n",
    "\n",
    "def mean(x: list):\n",
    "    return sum(x) / len(x)\n",
    "\n"
   ]
  },
  {
   "cell_type": "code",
   "execution_count": 17,
   "metadata": {},
   "outputs": [
    {
     "name": "stdout",
     "output_type": "stream",
     "text": [
      "8\n",
      "14\n",
      "200.0002058\n"
     ]
    }
   ],
   "source": [
    "print(twice(4))\n",
    "print(twice(7))\n",
    "print(twice(100.0001029))\n"
   ]
  },
  {
   "cell_type": "code",
   "execution_count": 18,
   "metadata": {},
   "outputs": [
    {
     "name": "stdout",
     "output_type": "stream",
     "text": [
      "3.0\n"
     ]
    }
   ],
   "source": [
    "print(mean(a))"
   ]
  },
  {
   "cell_type": "code",
   "execution_count": null,
   "metadata": {},
   "outputs": [],
   "source": []
  }
 ],
 "metadata": {
  "kernelspec": {
   "display_name": "Python 3",
   "language": "python",
   "name": "python3"
  },
  "language_info": {
   "codemirror_mode": {
    "name": "ipython",
    "version": 3
   },
   "file_extension": ".py",
   "mimetype": "text/x-python",
   "name": "python",
   "nbconvert_exporter": "python",
   "pygments_lexer": "ipython3",
   "version": "3.6.4"
  }
 },
 "nbformat": 4,
 "nbformat_minor": 2
}
